{
 "cells": [
  {
   "cell_type": "markdown",
   "metadata": {},
   "source": [
    "Install Data.World\n",
    "\n",
    "$ pip install git+git://github.com/datadotworld/data.world-py.git\n",
    "\n",
    "Then, go to https://data.world/settings/advanced and get your API token\n",
    "    \n",
    "Then simply run the following in Terminal and enter one time Token\n",
    "\n",
    "$ dw configure"
   ]
  },
  {
   "cell_type": "code",
   "execution_count": 1,
   "metadata": {
    "collapsed": true
   },
   "outputs": [],
   "source": [
    "import datadotworld as dw\n",
    "import pandas as pd\n",
    "import numpy as np\n",
    "import pprint as pp\n",
    "import os"
   ]
  },
  {
   "cell_type": "code",
   "execution_count": 2,
   "metadata": {
    "collapsed": false
   },
   "outputs": [
    {
     "name": "stdout",
     "output_type": "stream",
     "text": [
      "{'description': 'Metadata from houstontx.gov email addresses\\n'\n",
      "                '\\n'\n",
      "                'Data includes:\\n'\n",
      "                '- Sender\\n'\n",
      "                '- To\\n'\n",
      "                '- CC\\n'\n",
      "                '- BCC\\n'\n",
      "                '- Sent date/time\\n'\n",
      "                '- Received date/time\\n'\n",
      "                '\\n'\n",
      "                'Assembled by Matt Chapman (hubblefisher@gmail.com) through '\n",
      "                'FOIA request.',\n",
      " 'homepage': 'https://data.world/sketchcity/city-of-houston-email-metadata-january-march-2017',\n",
      " 'license': 'Public Domain',\n",
      " 'name': 'sketchcity_city-of-houston-email-metadata-january-march-2017',\n",
      " 'resources': [{'bytes': 1370801133,\n",
      "                'format': 'csv',\n",
      "                'mediatype': 'text/csv',\n",
      "                'name': 'original/coh_email_metadata_1Q17.csv',\n",
      "                'path': 'original/coh_email_metadata_1Q17.csv'}],\n",
      " 'title': 'City of Houston Email Metadata: 1/1/17 - 2/23/17'}\n"
     ]
    }
   ],
   "source": [
    "#Load Meta Data from data.world\n",
    "dataset = dw.load_dataset('sketchcity/city-of-houston-email-metadata-january-march-2017')\n",
    "pp.pprint(dataset.describe())"
   ]
  },
  {
   "cell_type": "code",
   "execution_count": 3,
   "metadata": {
    "collapsed": false,
    "scrolled": true
   },
   "outputs": [],
   "source": [
    "#Import data\n",
    "from io import BytesIO\n",
    "import csv\n",
    "df = pd.read_csv(BytesIO(dataset.raw_data['original/coh_email_metadata_1Q17.csv']))[0:1000000]"
   ]
  },
  {
   "cell_type": "code",
   "execution_count": 4,
   "metadata": {
    "collapsed": false,
    "scrolled": true
   },
   "outputs": [
    {
     "name": "stdout",
     "output_type": "stream",
     "text": [
      "(1000000, 6)\n",
      "Sender           4\n",
      "To            7158\n",
      "CC          856428\n",
      "BCC         971424\n",
      "Sent            27\n",
      "Received        27\n",
      "dtype: int64\n"
     ]
    },
    {
     "data": {
      "text/html": [
       "<div>\n",
       "<table border=\"1\" class=\"dataframe\">\n",
       "  <thead>\n",
       "    <tr style=\"text-align: right;\">\n",
       "      <th></th>\n",
       "      <th>Sender</th>\n",
       "      <th>To</th>\n",
       "      <th>CC</th>\n",
       "      <th>BCC</th>\n",
       "      <th>Sent</th>\n",
       "      <th>Received</th>\n",
       "    </tr>\n",
       "  </thead>\n",
       "  <tbody>\n",
       "    <tr>\n",
       "      <th>0</th>\n",
       "      <td>Houston Parks and Recreation Department &lt;Houst...</td>\n",
       "      <td>Lathan, Debra - PRD &lt;Debra.Lathan@houstontx.gov&gt;</td>\n",
       "      <td>NaN</td>\n",
       "      <td>NaN</td>\n",
       "      <td>2017-02-14 06:55:54Z</td>\n",
       "      <td>2017-02-14 06:55:52Z</td>\n",
       "    </tr>\n",
       "    <tr>\n",
       "      <th>1</th>\n",
       "      <td>Houston Parks and Recreation Department &lt;Houst...</td>\n",
       "      <td>Lathan, Debra - PRD &lt;Debra.Lathan@houstontx.gov&gt;</td>\n",
       "      <td>NaN</td>\n",
       "      <td>NaN</td>\n",
       "      <td>2017-02-14 06:55:54Z</td>\n",
       "      <td>2017-02-14 06:55:52Z</td>\n",
       "    </tr>\n",
       "    <tr>\n",
       "      <th>2</th>\n",
       "      <td>DIEP, BA &lt;Ba.Diep@tsa.dhs.gov&gt;</td>\n",
       "      <td>HOUcoordinationcenter &lt;HOUcoordinationcenter@t...</td>\n",
       "      <td>NaN</td>\n",
       "      <td>NaN</td>\n",
       "      <td>2017-02-14 06:57:22Z</td>\n",
       "      <td>2017-02-14 06:57:31Z</td>\n",
       "    </tr>\n",
       "    <tr>\n",
       "      <th>3</th>\n",
       "      <td>has.nicealerts@houstontx.gov &lt;has.nicealerts@h...</td>\n",
       "      <td>Ulrich, David - HAS &lt;David.Ulrich@houstontx.gov&gt;</td>\n",
       "      <td>NaN</td>\n",
       "      <td>NaN</td>\n",
       "      <td>2017-02-14 06:57:54Z</td>\n",
       "      <td>2017-02-14 06:57:54Z</td>\n",
       "    </tr>\n",
       "    <tr>\n",
       "      <th>4</th>\n",
       "      <td>has.movi@has.net &lt;has.movi@has.net&gt;</td>\n",
       "      <td>Lueders, Ulf - HAS &lt;Ulf.Lueders@houstontx.gov&gt;</td>\n",
       "      <td>NaN</td>\n",
       "      <td>NaN</td>\n",
       "      <td>2017-02-14 06:58:01Z</td>\n",
       "      <td>2017-02-14 06:58:01Z</td>\n",
       "    </tr>\n",
       "  </tbody>\n",
       "</table>\n",
       "</div>"
      ],
      "text/plain": [
       "                                              Sender  \\\n",
       "0  Houston Parks and Recreation Department <Houst...   \n",
       "1  Houston Parks and Recreation Department <Houst...   \n",
       "2                     DIEP, BA <Ba.Diep@tsa.dhs.gov>   \n",
       "3  has.nicealerts@houstontx.gov <has.nicealerts@h...   \n",
       "4                has.movi@has.net <has.movi@has.net>   \n",
       "\n",
       "                                                  To   CC  BCC  \\\n",
       "0   Lathan, Debra - PRD <Debra.Lathan@houstontx.gov>  NaN  NaN   \n",
       "1   Lathan, Debra - PRD <Debra.Lathan@houstontx.gov>  NaN  NaN   \n",
       "2  HOUcoordinationcenter <HOUcoordinationcenter@t...  NaN  NaN   \n",
       "3   Ulrich, David - HAS <David.Ulrich@houstontx.gov>  NaN  NaN   \n",
       "4     Lueders, Ulf - HAS <Ulf.Lueders@houstontx.gov>  NaN  NaN   \n",
       "\n",
       "                   Sent              Received  \n",
       "0  2017-02-14 06:55:54Z  2017-02-14 06:55:52Z  \n",
       "1  2017-02-14 06:55:54Z  2017-02-14 06:55:52Z  \n",
       "2  2017-02-14 06:57:22Z  2017-02-14 06:57:31Z  \n",
       "3  2017-02-14 06:57:54Z  2017-02-14 06:57:54Z  \n",
       "4  2017-02-14 06:58:01Z  2017-02-14 06:58:01Z  "
      ]
     },
     "execution_count": 4,
     "metadata": {},
     "output_type": "execute_result"
    }
   ],
   "source": [
    "#View Data size, Null value counts and sample data\n",
    "print(df.shape)\n",
    "print(df.isnull().sum())\n",
    "df.head()"
   ]
  },
  {
   "cell_type": "code",
   "execution_count": 5,
   "metadata": {
    "collapsed": false
   },
   "outputs": [
    {
     "name": "stdout",
     "output_type": "stream",
     "text": [
      "(986317, 6)\n",
      "Sender           0\n",
      "To               0\n",
      "CC          843262\n",
      "BCC         967868\n",
      "Sent             0\n",
      "Received         0\n",
      "dtype: int64\n"
     ]
    }
   ],
   "source": [
    "#Delete Null rows & SystemMailboxMails in relevant columns\n",
    "df.dropna(subset=['Sender','To','Sent','Received'], how='any', inplace=True)\n",
    "df = df[df.Sender.str.contains(\"SystemMailbox\") == False]\n",
    "df = df[df.To.str.contains(\"SystemMailbox\") == False]\n",
    "df = df.reset_index(drop=True)\n",
    "print(df.shape)\n",
    "print(df.isnull().sum())"
   ]
  },
  {
   "cell_type": "code",
   "execution_count": 6,
   "metadata": {
    "collapsed": false
   },
   "outputs": [
    {
     "data": {
      "text/plain": [
       "(986290, 6)"
      ]
     },
     "execution_count": 6,
     "metadata": {},
     "output_type": "execute_result"
    }
   ],
   "source": [
    "#Dropping rows with incorrect times(some rows contain email ids in time columns) and deleting time columns\n",
    "df = df.drop(df.index[[x for x in range(df.shape[0]) if (df['Sent'][x][:5]!='2017-' or df['Received'][x][:5]!='2017-')]]).reset_index(drop=True)\n",
    "df.drop(['Sent', 'Received'], axis=1)\n",
    "df.shape"
   ]
  },
  {
   "cell_type": "code",
   "execution_count": 7,
   "metadata": {
    "collapsed": true
   },
   "outputs": [],
   "source": [
    "#creating emails column containing all email ids present in an email\n",
    "df['Emails'] = df[df.columns[0:4]].apply(lambda x: ','.join(x.astype(str)),axis=1)\n",
    "#Extracting email ids as list in each row\n",
    "import re\n",
    "df['Emails'] = df['Emails'].apply(lambda x: re.findall(r'<(.*?)\\>', x))"
   ]
  },
  {
   "cell_type": "code",
   "execution_count": 23,
   "metadata": {
    "collapsed": false,
    "scrolled": true
   },
   "outputs": [
    {
     "data": {
      "text/plain": [
       "0         [HoustonParksandRecreationDepartment@active.co...\n",
       "1         [HoustonParksandRecreationDepartment@active.co...\n",
       "2         [Ba.Diep@tsa.dhs.gov, HOUcoordinationcenter@ts...\n",
       "3         [has.nicealerts@houstontx.gov, David.Ulrich@ho...\n",
       "4             [has.movi@has.net, Ulf.Lueders@houstontx.gov]\n",
       "5         [Francis.Roberto@houstontx.gov, Oscar.Segura@h...\n",
       "6             [has.movi@has.net, Ulf.Lueders@houstontx.gov]\n",
       "7             [btinfo@btol.com, Esther.Reyes@houstontx.gov]\n",
       "8               [btinfo@btol.com, Meryl.Bote@houstontx.gov]\n",
       "9              [btinfo@btol.com, Marla.Garza@houstontx.gov]\n",
       "10                [btinfo@btol.com, Pat.Ogea@houstontx.gov]\n",
       "11        [Old6WardHouston@yahoogroups.com, old6wardhous...\n",
       "12        [passenger.terminal.expo@mail.ukipmemails.com,...\n",
       "13        [Emily.Schaefer@houstontx.gov, daryl.h@houston...\n",
       "14         [info@houstonlibrary.org, hplblog@houstontx.gov]\n",
       "15        [Emily.Schaefer@houstontx.gov, daryl.h@houston...\n",
       "16            [has.movi@has.net, Ulf.Lueders@houstontx.gov]\n",
       "17        [info@acieconomics.com, Darian.Ward@houstontx....\n",
       "18            [has.movi@has.net, Ulf.Lueders@houstontx.gov]\n",
       "19        [Emily.Schaefer@houstontx.gov, daryl.h@houston...\n",
       "20        [PRODUCTION01@CoH.kronos.net, Julius.Luckett@h...\n",
       "21        [PRODUCTION02@CoH.kronos.net, Tesfaye.Tekle@ho...\n",
       "22        [PRODUCTION02@CoH.kronos.net, Patricia.Alexand...\n",
       "23        [PRODUCTION01@CoH.kronos.net, Derek.Bentley@ho...\n",
       "24        [PRODUCTION01@CoH.kronos.net, Troy.Donahue@hou...\n",
       "25        [veesgu1930@gmail.com, Veronica.Esparza@housto...\n",
       "26            [has.movi@has.net, Ulf.Lueders@houstontx.gov]\n",
       "27            [has.movi@has.net, Ulf.Lueders@houstontx.gov]\n",
       "28           [has.OME@has.net, Mark.Zeringue@houstontx.gov]\n",
       "29        [Jason.Thompson2@houstontx.gov, Monica.Garcia@...\n",
       "                                ...                        \n",
       "986260    [Natasha.Atkins@tristargroup.net, Angel.Barnha...\n",
       "986261    [Gary.Norman@houstontx.gov, Daniel.Albert@hous...\n",
       "986262    [Jonny.Flores@houstontx.gov, Jeremy.Crain@hous...\n",
       "986263    [Rocio.Dawson@houstontx.gov, Charles.Mitchell2...\n",
       "986264    [Jonny.Flores@houstontx.gov, Jeremy.Crain@hous...\n",
       "986265    [Gregory.Rust@mesa-air.com, Jeff.Kelly@houston...\n",
       "986266                         [Kallie.Benes@houstontx.gov]\n",
       "986267    [John.Richards@nch.com, Debbie.Reed@houstontx....\n",
       "986268    [Juana.Garfias@houstontx.gov, Anna.Pena@housto...\n",
       "986269    [houstontx@service-now.com, LaShanda.Griggs@ho...\n",
       "986270    [Mail@ConnectedCommunity.org, Monica.Corbin-Si...\n",
       "986271    [karlee@locuslabs.com, Kathleen.Boyd@houstontx...\n",
       "986272    [Richard.Albert@houstontx.gov, Travis.Hallum@h...\n",
       "986273    [karlee@locuslabs.com, Kathleen.Boyd@houstontx...\n",
       "986274      [sdg2@mastercard.com, Moe.Rivera@houstontx.gov]\n",
       "986275    [karlee@locuslabs.com, Kathleen.Boyd@houstontx...\n",
       "986276    [Tolulope.Sodimu@houstontx.gov, Denita.Johnson...\n",
       "986277    [Devon.Tiner@houstontx.gov, Aisha.Stewart@hous...\n",
       "986278    [Ronald.Lewis@houstontx.gov, Joe.Turner@housto...\n",
       "986279    [Kathleen.Boyd@houstontx.gov, Devon.Tiner@hous...\n",
       "986280    [aviation.workers@tsa.dhs.gov, Johanna.Maradia...\n",
       "986281    [levone.campbell@gmail.com, Lindsay.Campbell@h...\n",
       "986282    [Mario.Diaz@houstontx.gov, Andy.Icken@houstont...\n",
       "986283    [debbie.white1955@yahoo.com, HPL.HelpDesk@hous...\n",
       "986284    [Robert.Merz@houstontx.gov, Kenneth.Gregg@hous...\n",
       "986285    [Jessica.Beemer@houstontx.gov, Katherine.Cunni...\n",
       "986286    [MulshineB@RushEnterprises.com, Tone.Jefferson...\n",
       "986287    [Ed.Justice@houstontx.gov, Michele.Nathlich@ho...\n",
       "986288    [Mark.Whitman@houstontx.gov, Jim.Blessing@hous...\n",
       "986289       [mama1p@msn.com, Michael.Powers@houstontx.gov]\n",
       "Name: Emails, dtype: object"
      ]
     },
     "execution_count": 23,
     "metadata": {},
     "output_type": "execute_result"
    }
   ],
   "source": [
    "df['Emails']"
   ]
  },
  {
   "cell_type": "code",
   "execution_count": null,
   "metadata": {
    "collapsed": true
   },
   "outputs": [],
   "source": []
  }
 ],
 "metadata": {
  "kernelspec": {
   "display_name": "Python 3",
   "language": "python",
   "name": "python3"
  },
  "language_info": {
   "codemirror_mode": {
    "name": "ipython",
    "version": 3
   },
   "file_extension": ".py",
   "mimetype": "text/x-python",
   "name": "python",
   "nbconvert_exporter": "python",
   "pygments_lexer": "ipython3",
   "version": "3.6.0"
  }
 },
 "nbformat": 4,
 "nbformat_minor": 2
}
